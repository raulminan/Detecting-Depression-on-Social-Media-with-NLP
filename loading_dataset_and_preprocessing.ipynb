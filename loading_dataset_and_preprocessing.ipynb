{
 "cells": [
  {
   "cell_type": "markdown",
   "metadata": {},
   "source": [
    "# Imports"
   ]
  },
  {
   "cell_type": "code",
   "execution_count": 16,
   "metadata": {},
   "outputs": [],
   "source": [
    "#for loading the dataset\n",
    "import xml.etree.ElementTree as ET\n",
    "import pandas as pd\n",
    "import os\n",
    "\n",
    "#for plotting\n",
    "import matplotlib.pyplot as plt\n",
    "\n",
    "#for text processing\n",
    "import nltk\n",
    "\n",
    "#for saving the preprocessed dataset\n",
    "import pickle"
   ]
  },
  {
   "cell_type": "markdown",
   "metadata": {},
   "source": [
    "# Loading Dataset"
   ]
  },
  {
   "cell_type": "markdown",
   "metadata": {},
   "source": [
    "Our starting point is a collection of XML files collected in [this paper by David E. Losada et al.](https://tec.citius.usc.es/ir/pdf/CLEF16_paper.pdf). Each XML stores a sequence of submissions, including date, text and title."
   ]
  },
  {
   "cell_type": "code",
   "execution_count": 2,
   "metadata": {},
   "outputs": [],
   "source": [
    "def xml2dataframe(file_path):\n",
    "  \"\"\"\n",
    "  Takes a xml (one per subject) file and returns a \n",
    "  dataframe with 1 column:\n",
    "  |-------------------------- |\n",
    "  | TEXT                      |\n",
    "  |---------------------------|\n",
    "  |\"All posts from subject 0\" |\n",
    "  |---------------------------|\n",
    "  |\"All posts from subject 1\" |\n",
    "  |---------------------------|\n",
    "  ....\n",
    "\n",
    "  \"\"\"\n",
    "  tree = ET.parse(file_path)\n",
    "  root = tree.getroot()\n",
    "  all_posts = []\n",
    "\n",
    "  for i in root.iter(\"WRITING\"): #Iterate over the \"WRITING\" elements\n",
    "    post = i.find(\"TEXT\").text #Get the \"TEXT\" parts (these contain the posts)\n",
    "    all_posts.append(post) #get a list of all posts, each one is a string\n",
    "\n",
    "  one_post = \" \".join(all_posts) #join all posts into a single string\n",
    "  one_post_list = [] #we need the one_post string to be a list\n",
    "  one_post_list.append(one_post)\n",
    "\n",
    "  #create a dataframe with all the posts (one post per row)\n",
    "  df = pd.DataFrame(one_post_list, columns=[\"TEXT\"]) \n",
    "  return df"
   ]
  },
  {
   "cell_type": "code",
   "execution_count": 5,
   "metadata": {},
   "outputs": [],
   "source": [
    "def create_test_df():\n",
    "\n",
    "\t\"\"\"loads the positive and negative subjects from the \n",
    "\ttest data\"\"\"\n",
    "\n",
    "\ttest_neg_folder = \"filepath\"\n",
    "\ttest_pos_folder = \"filepath\"\n",
    "\n",
    "\ttest_positive_dfs, test_negative_dfs = [], []\n",
    "\n",
    "\n",
    "\tfor file in os.listdir(test_pos_folder): \n",
    "\t\tfilename = test_pos_folder + \"/\" + os.fsdecode(file)\n",
    "\t\ttest_pos_df = xml2dataframe(filename)\n",
    "\t\ttest_positive_dfs.append(test_pos_df)\n",
    "\n",
    "\ttest_pos_big_df = pd.concat(test_positive_dfs)\n",
    "\ttest_pos_big_df[\"LABEL\"] = 1 #add 1 for \"depressed\" subjects in the positive folder\n",
    "\n",
    "\tfor file in os.listdir(test_neg_folder): \n",
    "\t\tfilename = test_neg_folder + \"/\" + os.fsdecode(file)\n",
    "\t\ttest_neg_df = xml2dataframe(filename)\n",
    "\t\ttest_negative_dfs.append(test_neg_df)\n",
    "\n",
    "\ttest_neg_big_df = pd.concat(test_negative_dfs)\n",
    "\ttest_neg_big_df[\"LABEL\"] = 0 #add 0 for \"non-depressed\" subjects in the negative folder\n",
    "\n",
    "\ttest_df = test_pos_big_df.append(test_neg_big_df)\n",
    "\treturn test_df"
   ]
  },
  {
   "cell_type": "code",
   "execution_count": 6,
   "metadata": {},
   "outputs": [],
   "source": [
    "def create_training_df():\n",
    "\t\"\"\"loads the positive and negative subjects from the \n",
    "\ttraining data\"\"\"\n",
    "\t\n",
    "\ttrain_neg_folder = \"filepath\"\n",
    "\ttrain_pos_folder = \"filepath\"\n",
    "\n",
    "\ttrain_positive_dfs, train_negative_dfs = [], []\n",
    "\n",
    "\n",
    "\tfor file in os.listdir(train_pos_folder): \n",
    "\t\tfilename = train_pos_folder + \"/\" + os.fsdecode(file)\n",
    "\t\ttrain_pos_df = xml2dataframe(filename)\n",
    "\t\ttrain_positive_dfs.append(train_pos_df)\n",
    "\n",
    "\ttrain_pos_big_df = pd.concat(train_positive_dfs)\n",
    "\ttrain_pos_big_df[\"LABEL\"] = 1 \n",
    "\n",
    "\tfor file in os.listdir(train_neg_folder): \n",
    "\t\tfilename = train_neg_folder + \"/\" + os.fsdecode(file)\n",
    "\t\ttrain_neg_df = xml2dataframe(filename)\n",
    "\t\ttrain_negative_dfs.append(train_neg_df)\n",
    "\n",
    "\ttrain_neg_big_df = pd.concat(train_negative_dfs)\n",
    "\ttrain_neg_big_df[\"LABEL\"] = 0\n",
    "\n",
    "\ttraining_df = train_pos_big_df.append(train_neg_big_df)\n",
    "\treturn training_df"
   ]
  },
  {
   "cell_type": "code",
   "execution_count": 7,
   "metadata": {},
   "outputs": [],
   "source": [
    "test_df = create_test_df()\n",
    "training_df = create_training_df()"
   ]
  },
  {
   "cell_type": "code",
   "execution_count": 11,
   "metadata": {},
   "outputs": [
    {
     "data": {
      "image/png": "[encoded data removed]",
      "text/plain": [
       "<Figure size 432x288 with 1 Axes>"
      ]
     },
     "metadata": {
      "needs_background": "light"
     },
     "output_type": "display_data"
    }
   ],
   "source": [
    "#check composition of the dataset\n",
    "df_comp = pd.concat([training_df, test_df]) \n",
    "\n",
    "fig, ax = plt.subplots()\n",
    "fig.suptitle(\"Class distribution\", fontsize=12)\n",
    "df_comp[\"LABEL\"].reset_index().groupby(\"LABEL\").count().sort_values(by= \n",
    "       \"index\").plot(kind=\"barh\", legend=False, \n",
    "        ax=ax).grid(axis='x')\n",
    "plt.show()"
   ]
  },
  {
   "cell_type": "markdown",
   "metadata": {},
   "source": [
    "The dataset is very umbalanced, which might create some problems in our model later"
   ]
  },
  {
   "cell_type": "markdown",
   "metadata": {},
   "source": [
    "# Preprocessing"
   ]
  },
  {
   "cell_type": "code",
   "execution_count": 13,
   "metadata": {},
   "outputs": [],
   "source": [
    "class TextPreprocessor:\n",
    "  def __init__(self):\n",
    "    nltk_resources = [\"punkt\", \"averaged_perceptron_tagger\", \"wordnet\", \"stopwords\", \"words\"]\n",
    "    #check if resource is downloaded, if not, download it\n",
    "    for resource in nltk_resources:\n",
    "      try:\n",
    "        nltk.data.find(resource)\n",
    "      except LookupError:\n",
    "        nltk.download(resource)\n",
    "\n",
    "    self.lemmatizer = nltk.WordNetLemmatizer()\n",
    "    self.words = set(nltk.corpus.words.words())\n",
    "    self.stopwords = set(nltk.corpus.stopwords.words())\n",
    "\n",
    "  def nltk_tag_to_wordnet_tag(self, nltk_tag):\n",
    "    \"\"\"Changes the nltk pos tags to wordnet tags to be tagged correctly\n",
    "    in POS tagging\n",
    "    \"\"\"\n",
    "    if nltk_tag.startswith('J'):\n",
    "        return nltk.corpus.wordnet.ADJ\n",
    "    elif nltk_tag.startswith('V'):\n",
    "        return nltk.corpus.wordnet.VERB\n",
    "    elif nltk_tag.startswith('N'):\n",
    "        return nltk.corpus.wordnet.NOUN\n",
    "    elif nltk_tag.startswith('R'):\n",
    "        return nltk.corpus.wordnet.ADV\n",
    "    else:\n",
    "        return None\n",
    "\n",
    "  def lemmatize_text(self, text):\n",
    "    \"\"\"Lemmatizes the POS_tagged input text\"\"\"\n",
    "\n",
    "    wordnet_tagged = map(lambda x: (x[0], self.nltk_tag_to_wordnet_tag(x[1])), text) #changes the tags to wordnet\n",
    "    lemmatized = []\n",
    "    for word, tag in wordnet_tagged:\n",
    "        if tag is None:\n",
    "          #if there is no available tag, append the token as is\n",
    "          lemmatized.append(word)\n",
    "        #expand common contractions\n",
    "        elif word in [\"'m\", \"'s\", \"'re\", \" 'm\", \" 's\", \" 're\"]: \n",
    "          lemmatized.append(\"be\")\n",
    "        elif word == \"'ve\":\n",
    "          lemmatized.append(\"have\")\n",
    "        elif word == \"n't\":\n",
    "          lemmatized.append(\"not\")\n",
    "        else:\n",
    "          #else use the tag to lemmatize the token\n",
    "          lemmatized.append(self.lemmatizer.lemmatize(word, tag))\n",
    "\n",
    "    return lemmatized\n",
    "\n",
    "  def preprocessing(self, dataframe):\n",
    "    \"\"\"\n",
    "    Takes a dataframe as input and preprocesses the data as follows:\n",
    "      1. Tokenization\n",
    "      2. Part of Speech Tagging\n",
    "      3. Lemmatization\n",
    "      4. Removes punctuation\n",
    "      5. Removes non-words and lowecases all words\n",
    "      6. Convert to string\n",
    "    \"\"\"\n",
    "    # 1. Tokenization\n",
    "    dataframe[\"TOKENIZED_TEXT\"] = dataframe.apply(lambda row: nltk.word_tokenize(row['TEXT']), axis=1)\n",
    "\n",
    "    # 2. POS Tagging\n",
    "    dataframe[\"POS_TAGGED_TEXT\"] = nltk.pos_tag_sents(dataframe[\"TOKENIZED_TEXT\"])\n",
    "\n",
    "    # 3. Lemmatization\n",
    "    dataframe['LEMMATIZED_TEXT'] = dataframe['POS_TAGGED_TEXT'].apply(lambda row: self.lemmatize_text(row))\n",
    "\n",
    "    #4. Remove punctuation\n",
    "    dataframe[\"LEMMATIZED_TEXT\"] = dataframe.apply(\n",
    "        lambda row: [word for word in row[\"LEMMATIZED_TEXT\"] if word.isalpha()], axis=1)\n",
    "\n",
    "    #5. Non-word and stop word removal + lowercasing\n",
    "    dataframe[\"FINAL_TEXT\"] = dataframe.apply(\n",
    "        lambda row: [w.lower() for w in row[\"LEMMATIZED_TEXT\"] if w in self.words and w not in self.stopwords], \n",
    "        axis=1)\n",
    "\n",
    "    #6. Convert to string\n",
    "    dataframe['FINAL_TEXT_STRING'] = [' '.join(map(str, l)) for l in dataframe['FINAL_TEXT']]\n",
    "\n",
    "    return dataframe"
   ]
  },
  {
   "cell_type": "code",
   "execution_count": 14,
   "metadata": {},
   "outputs": [
    {
     "name": "stderr",
     "output_type": "stream",
     "text": [
      "[nltk_data] Downloading package punkt to\n",
      "[nltk_data]     C:\\Users\\raulm\\AppData\\Roaming\\nltk_data...\n",
      "[nltk_data]   Package punkt is already up-to-date!\n",
      "[nltk_data] Downloading package averaged_perceptron_tagger to\n",
      "[nltk_data]     C:\\Users\\raulm\\AppData\\Roaming\\nltk_data...\n",
      "[nltk_data]   Package averaged_perceptron_tagger is already up-to-\n",
      "[nltk_data]       date!\n",
      "[nltk_data] Downloading package wordnet to\n",
      "[nltk_data]     C:\\Users\\raulm\\AppData\\Roaming\\nltk_data...\n",
      "[nltk_data]   Package wordnet is already up-to-date!\n",
      "[nltk_data] Downloading package stopwords to\n",
      "[nltk_data]     C:\\Users\\raulm\\AppData\\Roaming\\nltk_data...\n",
      "[nltk_data]   Unzipping corpora\\stopwords.zip.\n",
      "[nltk_data] Downloading package words to\n",
      "[nltk_data]     C:\\Users\\raulm\\AppData\\Roaming\\nltk_data...\n",
      "[nltk_data]   Unzipping corpora\\words.zip.\n",
      "[nltk_data] Downloading package punkt to\n",
      "[nltk_data]     C:\\Users\\raulm\\AppData\\Roaming\\nltk_data...\n",
      "[nltk_data]   Package punkt is already up-to-date!\n",
      "[nltk_data] Downloading package averaged_perceptron_tagger to\n",
      "[nltk_data]     C:\\Users\\raulm\\AppData\\Roaming\\nltk_data...\n",
      "[nltk_data]   Package averaged_perceptron_tagger is already up-to-\n",
      "[nltk_data]       date!\n",
      "[nltk_data] Downloading package wordnet to\n",
      "[nltk_data]     C:\\Users\\raulm\\AppData\\Roaming\\nltk_data...\n",
      "[nltk_data]   Package wordnet is already up-to-date!\n",
      "[nltk_data] Downloading package stopwords to\n",
      "[nltk_data]     C:\\Users\\raulm\\AppData\\Roaming\\nltk_data...\n",
      "[nltk_data]   Package stopwords is already up-to-date!\n",
      "[nltk_data] Downloading package words to\n",
      "[nltk_data]     C:\\Users\\raulm\\AppData\\Roaming\\nltk_data...\n",
      "[nltk_data]   Package words is already up-to-date!\n"
     ]
    }
   ],
   "source": [
    "final_training_df = TextPreprocessor().preprocessing(training_df)\n",
    "final_test_df = TextPreprocessor().preprocessing(test_df)"
   ]
  },
  {
   "cell_type": "code",
   "execution_count": 18,
   "metadata": {},
   "outputs": [],
   "source": [
    "#save datasets as pickle objects\n",
    "\n",
    "final_training_df.to_pickle(\"filepath\")\n",
    "final_test_df.to_pickle(\"filepath\")"
   ]
  }
 ],
 "metadata": {
  "interpreter": {
   "hash": "ac59ebe37160ed0dfa835113d9b8498d9f09ceb179beaac4002f036b9467c963"
  },
  "kernelspec": {
   "display_name": "Python 3.9.7 64-bit",
   "language": "python",
   "name": "python3"
  },
  "language_info": {
   "codemirror_mode": {
    "name": "ipython",
    "version": 3
   },
   "file_extension": ".py",
   "mimetype": "text/x-python",
   "name": "python",
   "nbconvert_exporter": "python",
   "pygments_lexer": "ipython3",
   "version": "3.9.7"
  },
  "orig_nbformat": 4
 },
 "nbformat": 4,
 "nbformat_minor": 2
}
